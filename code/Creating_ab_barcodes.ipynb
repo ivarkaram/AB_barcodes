{
 "cells": [
  {
   "cell_type": "markdown",
   "metadata": {},
   "source": [
    "# Generating antibody barcodes"
   ]
  },
  {
   "cell_type": "markdown",
   "metadata": {},
   "source": [
    "This notebook contains code to generate AB barcodes for DNA-conjugated antibodies that can be used for simultaneous multiplexed protein profiling and Spatial Transcriptomics with Visium spatial gene expression solution from 10X genomics."
   ]
  },
  {
   "cell_type": "code",
   "execution_count": 1,
   "metadata": {},
   "outputs": [],
   "source": [
    "import random\n",
    "import numpy as np\n",
    "from itertools import groupby"
   ]
  },
  {
   "cell_type": "code",
   "execution_count": 87,
   "metadata": {},
   "outputs": [],
   "source": [
    "def visium_barcodes_(inputfile):\n",
    "    \"\"\"Function to get spatial barcodes from a visium file containing spatial barcodes and coordinates.\"\"\"\n",
    "    barcodes = []\n",
    "    with open(inputfile) as f:\n",
    "        for line in f:\n",
    "            words = line.split(\"\\t\")\n",
    "            barcodes.append(words[0])\n",
    "    return barcodes"
   ]
  },
  {
   "cell_type": "code",
   "execution_count": 88,
   "metadata": {},
   "outputs": [],
   "source": [
    "def gc_content(sequence):\n",
    "    \"\"\"Calculates the %GC in a sequence.\"\"\"\n",
    "    gc_count = sequence.count(\"G\") + sequence.count(\"C\")\n",
    "    gc_frac = float (gc_count) / len(sequence) *100\n",
    "    return gc_frac"
   ]
  },
  {
   "cell_type": "code",
   "execution_count": 89,
   "metadata": {},
   "outputs": [],
   "source": [
    "def hamming_distance (seq1, seq2):\n",
    "    \"\"\"Calculates the hamming distance between two sequences.\"\"\"\n",
    "    counter = 0\n",
    "    for nuc1, nuc2 in zip(seq1,seq2):\n",
    "        if nuc1 != nuc2:\n",
    "            counter += 1\n",
    "    return counter"
   ]
  },
  {
   "cell_type": "code",
   "execution_count": 90,
   "metadata": {},
   "outputs": [],
   "source": [
    "def random_barcodes(n, l):\n",
    "    \"\"\"Generates n random barcodes of l length.\"\"\"\n",
    "    random.seed(29)\n",
    "    random_barcodes = []\n",
    "    for j in range(0,n):\n",
    "        nucleotides = [\"A\", \"C\", \"G\", \"T\"]\n",
    "        random_barcodes.append(''.join(random.choice(nucleotides) for i in range(l)))\n",
    "    return random_barcodes"
   ]
  },
  {
   "cell_type": "code",
   "execution_count": 91,
   "metadata": {},
   "outputs": [],
   "source": [
    "visium_barcodes = visium_barcodes_(\"../data/visium-v1_coordinates.txt\") \n",
    "ab_barcodes = random_barcodes(100, 16) # create 100 AB barcodes of 16 length\n",
    "\n",
    "hamming_dist = {} # Store all hamming distances between each AB barcode and all visium spatial barcodes, and GC%\n",
    "\n",
    "for i in range(0, len(ab_barcodes)):\n",
    "    GC = gc_content(ab_barcodes[i]) # Calculate GC-content for each ab_barcode\n",
    "    values = []\n",
    "    for v_barcode in visium_barcodes:\n",
    "        val = hamming_distance(ab_barcodes[i], v_barcode) # AB barcode against each and every visium barcode\n",
    "        values.append(val)\n",
    "    hamming_dist[ab_barcodes[i]] = (values, GC) "
   ]
  },
  {
   "cell_type": "markdown",
   "metadata": {},
   "source": [
    "# Quality check"
   ]
  },
  {
   "cell_type": "markdown",
   "metadata": {},
   "source": [
    "Check if the hamming distance for the first visium barcode and random barcode is correct"
   ]
  },
  {
   "cell_type": "code",
   "execution_count": 13,
   "metadata": {
    "scrolled": true
   },
   "outputs": [
    {
     "name": "stdout",
     "output_type": "stream",
     "text": [
      "10\n",
      "AAACAACGAATAGTTC\n",
      "AGGAGTTAAATCGATG\n"
     ]
    }
   ],
   "source": [
    "print(hamming_distance(ab_barcodes[0], visium_barcodes[0]))\n",
    "print(visium_barcodes[0])\n",
    "print(ab_barcodes[0])"
   ]
  },
  {
   "cell_type": "markdown",
   "metadata": {},
   "source": [
    "Check if the length of the values (hamming distances between each AB barcode and visium barcode) are the same number as there are visium barcodes"
   ]
  },
  {
   "cell_type": "code",
   "execution_count": 86,
   "metadata": {},
   "outputs": [
    {
     "name": "stdout",
     "output_type": "stream",
     "text": [
      "True\n"
     ]
    }
   ],
   "source": [
    "print(len(hamming_dist[key][0])== len(visium_barcodes))"
   ]
  },
  {
   "cell_type": "markdown",
   "metadata": {},
   "source": [
    "# Check %GC of AB barcodes and Visium barcodes"
   ]
  },
  {
   "cell_type": "code",
   "execution_count": 786,
   "metadata": {},
   "outputs": [
    {
     "name": "stdout",
     "output_type": "stream",
     "text": [
      "25.0\n",
      "75.0\n"
     ]
    }
   ],
   "source": [
    "# GC% of AB barcodes\n",
    "gc_values = []\n",
    "for key, val in hamming_dist.items():\n",
    "    gc_values.append(val[1])\n",
    "print(min(gc_values))\n",
    "print(max(gc_values))"
   ]
  },
  {
   "cell_type": "code",
   "execution_count": 14,
   "metadata": {},
   "outputs": [
    {
     "name": "stdout",
     "output_type": "stream",
     "text": [
      "25.0\n",
      "75.0\n"
     ]
    }
   ],
   "source": [
    "# Visium barcodes\n",
    "gc_visium = []\n",
    "for barcode in visium_barcodes:\n",
    "    gc_visium.append(gc_content(barcode))\n",
    "print(min(gc_visium))\n",
    "print(max(gc_visium))"
   ]
  },
  {
   "cell_type": "markdown",
   "metadata": {},
   "source": [
    "All the randomly generated barcodes here are in the same GC content range as the visium barcodes."
   ]
  },
  {
   "cell_type": "markdown",
   "metadata": {},
   "source": [
    "# Check Hamming distance between AB barcodes and visum barcodes"
   ]
  },
  {
   "cell_type": "markdown",
   "metadata": {},
   "source": [
    "To understand how different the AB barcodes are to the Visium barcodes the minimum and maximum Hamming distance for each AB barcode can be retrieved."
   ]
  },
  {
   "cell_type": "code",
   "execution_count": 42,
   "metadata": {},
   "outputs": [
    {
     "data": {
      "text/plain": [
       "{'AGGAGTTAAATCGATG': (5, 16),\n",
       " 'TCTCCTTCTGGCTTCG': (5, 16),\n",
       " 'GTTAGCGCGATCTTTG': (5, 16),\n",
       " 'CGCGAATTCTCGAAAG': (6, 16),\n",
       " 'AAAAACCTGCAACGTA': (5, 16),\n",
       " 'CCACATCCCCGCAAGG': (5, 16),\n",
       " 'CTAGTGCGTATATTTA': (5, 16),\n",
       " 'GTCCCGTTAGCTATCC': (5, 16),\n",
       " 'TCGCCATATGAAGCGC': (5, 16),\n",
       " 'ACCCAGGGACGCCTCG': (5, 16),\n",
       " 'GGGTTGCACAGAACCC': (6, 16),\n",
       " 'AGGGAGAGTGAGGAGC': (6, 16),\n",
       " 'CATCGCTCCTTTACCT': (6, 16),\n",
       " 'GGGCGCCCCCCTGAAT': (6, 16),\n",
       " 'CAGGTGACAAAGCCTG': (4, 16),\n",
       " 'CTCAGCAATCTAATTC': (5, 16),\n",
       " 'GCAGGAAGGAAGCTCG': (5, 16),\n",
       " 'GCCGCGCCATCGGAGA': (6, 16),\n",
       " 'CTTCAGCACGAGTATA': (6, 16),\n",
       " 'CGCCAGTCAACGCCAA': (2, 16),\n",
       " 'GGCAAGGCGAGCTCCC': (4, 16),\n",
       " 'TCAGGGTTGGGGAGCA': (6, 16),\n",
       " 'CCTACGCAATGACCCA': (4, 16),\n",
       " 'TGTGACGGTTGTGTGT': (5, 16),\n",
       " 'AAAGGTGAGAGCTCAT': (4, 16),\n",
       " 'GGGTGCCAGAGAACCT': (6, 16),\n",
       " 'CCACGCCAGATGAAGT': (4, 16),\n",
       " 'AAGGTAACCCGTCTTG': (4, 16),\n",
       " 'AATCGGCGCAACGAAC': (5, 16),\n",
       " 'GGTTGAGAATTGGAGT': (5, 16),\n",
       " 'GTCATGCTATGCGGAT': (6, 16),\n",
       " 'CGGGAGTGATAACGAC': (6, 16),\n",
       " 'TACGGTCTGAAGCGGC': (4, 16),\n",
       " 'GTCGCAGGGTCGTAAT': (6, 16),\n",
       " 'CCCTAGAACAAGCAAT': (6, 16),\n",
       " 'AGCTCACCTGAGATTT': (5, 16),\n",
       " 'CTCGCTCCCTATGCGG': (5, 16),\n",
       " 'GGTTTGGTCGTCTCCC': (5, 16),\n",
       " 'TTTCGTGCAAGGCCAT': (5, 16),\n",
       " 'CACCCTTGTGAGAGTC': (5, 16),\n",
       " 'AGAGGGAAGTCTCTTC': (5, 16),\n",
       " 'TATACTCCCTTGCGGA': (5, 16),\n",
       " 'TGTACACGTAACGTTA': (5, 16),\n",
       " 'AACCTCCACTTAAGAA': (6, 16),\n",
       " 'ACCCAGTTGAGGCAGG': (5, 16),\n",
       " 'TTGGGATTAAGGGCTG': (4, 16),\n",
       " 'AAGAACTACGCGCTAT': (5, 16),\n",
       " 'TTCCTATGTACTAGTC': (5, 16),\n",
       " 'ATGATTATCTATACGA': (5, 16),\n",
       " 'GGCTGAACGCCTGGTA': (4, 16),\n",
       " 'AATGTGGATCAAAGGC': (5, 16),\n",
       " 'GCAGATCCCCCACGCT': (5, 16),\n",
       " 'CACAAGTTTCTCAACC': (5, 16),\n",
       " 'CTACTCGTCATAACGC': (5, 16),\n",
       " 'GCAGCACCGCTTCGCG': (6, 16),\n",
       " 'GTTTTGGCGTGGGATT': (5, 16),\n",
       " 'CGGGCGCGAGGAAATC': (6, 16),\n",
       " 'GCGCTAGGGCTTCTCG': (5, 16),\n",
       " 'TTATAGGTTATAGGTA': (5, 16),\n",
       " 'AGGTATATTCCGCAAT': (6, 16),\n",
       " 'TACGCTCCAAGATGCA': (5, 16),\n",
       " 'GCAAACTCACCTAACG': (5, 16),\n",
       " 'TATGTTGCGACTATCT': (6, 16),\n",
       " 'GGCCAGTGTTAAGTCC': (6, 16),\n",
       " 'TAGCAGAGTTTCAATT': (5, 16),\n",
       " 'CCGCCCCGGGAGTTCT': (6, 16),\n",
       " 'AGCCGAACTTGACCGT': (5, 16),\n",
       " 'CCTTGCCAGGGGGCGA': (5, 16),\n",
       " 'ACTATGGACGCGCACG': (3, 16),\n",
       " 'TAGACGACCCGCAACA': (5, 16),\n",
       " 'CATCCCGACTCATTAG': (5, 16),\n",
       " 'GCCTCACATCGGCCAT': (6, 16),\n",
       " 'AAGCGGCAGGGTAGTA': (5, 16),\n",
       " 'GGCCACGAAAGCCGGA': (6, 16),\n",
       " 'ACGGTTTCACAAGTAC': (5, 16),\n",
       " 'CACCTACGAACACGCA': (5, 16),\n",
       " 'GATGACTCTACGACGC': (4, 16),\n",
       " 'ATTTTATGCAGTGGGC': (5, 16),\n",
       " 'GAGTACACTTCACCGA': (5, 16),\n",
       " 'TAGACGCTTAGTTACC': (4, 16),\n",
       " 'TGAATTCTTGGCCTTA': (5, 16),\n",
       " 'TTACGTATAGGTTGTC': (6, 16),\n",
       " 'TGTGCACGGTGGGGGC': (6, 16),\n",
       " 'CTCTGTAGCAACACGA': (6, 16),\n",
       " 'AGCCGCGAGAAACTTC': (5, 16),\n",
       " 'TGTCCGATTAGAACAA': (5, 16),\n",
       " 'TAGACCTTTGGCGCTC': (5, 16),\n",
       " 'TTGATCGCATAGATAA': (5, 16),\n",
       " 'CCTACCTACCACATGT': (5, 16),\n",
       " 'GGTGCGTGACTGTGTG': (6, 16),\n",
       " 'GGTTAGTGTCGATATG': (6, 16),\n",
       " 'CATAATACTGACCCCC': (4, 16),\n",
       " 'CCAATCCAACTTACTT': (5, 16),\n",
       " 'GCCTAGGCAATCGGGA': (4, 16),\n",
       " 'ATGAGCAGATATCTTG': (6, 16),\n",
       " 'AACCATGTCGTCCCTG': (4, 16),\n",
       " 'AAAACTCAGTTGCACT': (4, 16),\n",
       " 'TTCACCATTAGTACGC': (6, 16),\n",
       " 'GATCGTGGAGTTCGTA': (4, 16),\n",
       " 'TTCGCAGGTATGAGGT': (5, 16)}"
      ]
     },
     "execution_count": 42,
     "metadata": {},
     "output_type": "execute_result"
    }
   ],
   "source": [
    "distances = {}\n",
    "for key, val in hamming_dist.items():\n",
    "    hamming_val = []\n",
    "    for i in range(0, len(hamming_dist[key][0])):\n",
    "        value = val[0][i] # retrieve each hamming distance list comparing random barcode to visium barcode\n",
    "        hamming_val.append(value)\n",
    "        distances[key] = (min(hamming_val), max(hamming_val))\n",
    "distances"
   ]
  },
  {
   "cell_type": "markdown",
   "metadata": {},
   "source": [
    "# Comparing the Hamming distance between AB barcodes"
   ]
  },
  {
   "cell_type": "markdown",
   "metadata": {},
   "source": [
    "To understand how different the 100 randomly generated AB barcodes are different to each other their Hamming distances can also be calculated and the minimum value retrieved."
   ]
  },
  {
   "cell_type": "code",
   "execution_count": 18,
   "metadata": {},
   "outputs": [],
   "source": [
    "hamming_random_bar = {}\n",
    "\n",
    "for i in range(0, len(ab_barcodes)):\n",
    "    values = []\n",
    "    for barcode in ab_barcodes:\n",
    "        val = hamming_distance(ab_barcodes[i], barcode)\n",
    "        values.append(val)\n",
    "    values.sort()\n",
    "    hamming_random_bar[ab_barcodes[i]] = values[1] # 1 because the first one is 0 (barcode compared to itself)"
   ]
  },
  {
   "cell_type": "code",
   "execution_count": 19,
   "metadata": {},
   "outputs": [
    {
     "data": {
      "text/plain": [
       "dict_values([8, 9, 8, 8, 9, 8, 7, 8, 7, 7, 4, 8, 9, 8, 7, 8, 7, 7, 8, 8, 7, 8, 8, 7, 8, 4, 7, 7, 9, 7, 8, 7, 8, 7, 8, 8, 8, 7, 8, 7, 7, 7, 7, 8, 7, 8, 8, 7, 7, 8, 9, 6, 8, 8, 6, 7, 7, 6, 7, 8, 7, 8, 9, 7, 8, 8, 8, 7, 8, 7, 8, 8, 8, 6, 8, 7, 7, 7, 7, 7, 7, 8, 7, 7, 7, 7, 7, 8, 8, 6, 6, 8, 7, 6, 8, 8, 7, 7, 8, 7])"
      ]
     },
     "execution_count": 19,
     "metadata": {},
     "output_type": "execute_result"
    }
   ],
   "source": [
    "hamming_random_bar.values()"
   ]
  },
  {
   "cell_type": "markdown",
   "metadata": {},
   "source": [
    "# Choosing AB barcodes"
   ]
  },
  {
   "cell_type": "markdown",
   "metadata": {},
   "source": [
    "To decide on which AB barcodes to choose one can start with filtering out the AB barcodes that have closer resemblence to any of the Visium spatial barcodes. Here a minimum Hamming distance of 6 between the AB barcode and any Visium barcode was set as threshold."
   ]
  },
  {
   "cell_type": "code",
   "execution_count": 20,
   "metadata": {},
   "outputs": [],
   "source": [
    "bools = []\n",
    "for k,v in distances.items():\n",
    "    bools.append(v[0]>=6)\n",
    "significant = [i for i, x in enumerate(bools) if x] # Retrieve the true indices"
   ]
  },
  {
   "cell_type": "markdown",
   "metadata": {},
   "source": [
    "Secondly, one can filter out the AB barcodes that have closer resemblence to any of the other AB barcodes. Here a minimum hamming distance of 7 between the AB barcodes and any other potential AB barcode was set as threshold."
   ]
  },
  {
   "cell_type": "code",
   "execution_count": 24,
   "metadata": {},
   "outputs": [],
   "source": [
    "l = []\n",
    "for k,v in hamming_random_bar.items():\n",
    "    l.append(v>=7)\n",
    "significant_barcodes = [i for i, x in enumerate(l) if x]"
   ]
  },
  {
   "cell_type": "markdown",
   "metadata": {},
   "source": [
    "Now the AB barcodes that are at least 6 hamming distances away from each visium spatial barcode and at least 7 hamming distances away from any other AB barcode can be retrieved by checking the intersection of the two lists generated."
   ]
  },
  {
   "cell_type": "code",
   "execution_count": 28,
   "metadata": {},
   "outputs": [],
   "source": [
    "overlap = set(significant).intersection(significant_barcodes)"
   ]
  },
  {
   "cell_type": "code",
   "execution_count": 30,
   "metadata": {},
   "outputs": [],
   "source": [
    "ab_barcodes = np.array(ab_barcodes)"
   ]
  },
  {
   "cell_type": "code",
   "execution_count": 79,
   "metadata": {},
   "outputs": [],
   "source": [
    "most_sig = ab_barcodes[list(overlap)] # retrieve the most signficant AB barcodes"
   ]
  },
  {
   "cell_type": "markdown",
   "metadata": {},
   "source": [
    "Lastly one can filter out the barcodes based on consequtive bases, here max 3 consequtive bases will be allowed."
   ]
  },
  {
   "cell_type": "code",
   "execution_count": 53,
   "metadata": {},
   "outputs": [],
   "source": [
    "consequtive = {} # Store the number of consequtive bases in each barcode\n",
    "for barcode in most_sig:\n",
    "    res = [len(list(j)) for _, j in groupby(barcode)]\n",
    "    consequtive[barcode] = res"
   ]
  },
  {
   "cell_type": "code",
   "execution_count": 54,
   "metadata": {},
   "outputs": [
    {
     "data": {
      "text/plain": [
       "{'CGCGAATTCTCGAAAG': [1, 1, 1, 1, 2, 2, 1, 1, 1, 1, 3, 1],\n",
       " 'AGGGAGAGTGAGGAGC': [1, 3, 1, 1, 1, 1, 1, 1, 1, 2, 1, 1, 1],\n",
       " 'CATCGCTCCTTTACCT': [1, 1, 1, 1, 1, 1, 1, 2, 3, 1, 2, 1],\n",
       " 'GGGCGCCCCCCTGAAT': [3, 1, 1, 6, 1, 1, 2, 1],\n",
       " 'GCCGCGCCATCGGAGA': [1, 2, 1, 1, 1, 2, 1, 1, 1, 2, 1, 1, 1],\n",
       " 'CTTCAGCACGAGTATA': [1, 2, 1, 1, 1, 1, 1, 1, 1, 1, 1, 1, 1, 1, 1],\n",
       " 'TCAGGGTTGGGGAGCA': [1, 1, 1, 3, 2, 4, 1, 1, 1, 1],\n",
       " 'GTCATGCTATGCGGAT': [1, 1, 1, 1, 1, 1, 1, 1, 1, 1, 1, 1, 2, 1, 1],\n",
       " 'CGGGAGTGATAACGAC': [1, 3, 1, 1, 1, 1, 1, 1, 2, 1, 1, 1, 1],\n",
       " 'GTCGCAGGGTCGTAAT': [1, 1, 1, 1, 1, 1, 3, 1, 1, 1, 1, 2, 1],\n",
       " 'CCCTAGAACAAGCAAT': [3, 1, 1, 1, 2, 1, 2, 1, 1, 2, 1],\n",
       " 'AACCTCCACTTAAGAA': [2, 2, 1, 2, 1, 1, 2, 2, 1, 2],\n",
       " 'CGGGCGCGAGGAAATC': [1, 3, 1, 1, 1, 1, 1, 2, 3, 1, 1],\n",
       " 'AGGTATATTCCGCAAT': [1, 2, 1, 1, 1, 1, 2, 2, 1, 1, 2, 1],\n",
       " 'TATGTTGCGACTATCT': [1, 1, 1, 1, 2, 1, 1, 1, 1, 1, 1, 1, 1, 1, 1],\n",
       " 'GGCCAGTGTTAAGTCC': [2, 2, 1, 1, 1, 1, 2, 2, 1, 1, 2],\n",
       " 'CCGCCCCGGGAGTTCT': [2, 1, 4, 3, 1, 1, 2, 1, 1],\n",
       " 'GCCTCACATCGGCCAT': [1, 2, 1, 1, 1, 1, 1, 1, 1, 2, 2, 1, 1],\n",
       " 'TTACGTATAGGTTGTC': [2, 1, 1, 1, 1, 1, 1, 1, 2, 2, 1, 1, 1],\n",
       " 'TGTGCACGGTGGGGGC': [1, 1, 1, 1, 1, 1, 1, 2, 1, 5, 1],\n",
       " 'CTCTGTAGCAACACGA': [1, 1, 1, 1, 1, 1, 1, 1, 1, 2, 1, 1, 1, 1, 1],\n",
       " 'ATGAGCAGATATCTTG': [1, 1, 1, 1, 1, 1, 1, 1, 1, 1, 1, 1, 1, 2, 1],\n",
       " 'TTCACCATTAGTACGC': [2, 1, 1, 2, 1, 2, 1, 1, 1, 1, 1, 1, 1]}"
      ]
     },
     "execution_count": 54,
     "metadata": {},
     "output_type": "execute_result"
    }
   ],
   "source": [
    "consequtive"
   ]
  },
  {
   "cell_type": "code",
   "execution_count": 92,
   "metadata": {},
   "outputs": [
    {
     "data": {
      "text/plain": [
       "['CGCGAATTCTCGAAAG',\n",
       " 'AGGGAGAGTGAGGAGC',\n",
       " 'CATCGCTCCTTTACCT',\n",
       " 'GCCGCGCCATCGGAGA',\n",
       " 'CTTCAGCACGAGTATA',\n",
       " 'GTCATGCTATGCGGAT',\n",
       " 'CGGGAGTGATAACGAC',\n",
       " 'GTCGCAGGGTCGTAAT',\n",
       " 'CCCTAGAACAAGCAAT',\n",
       " 'AACCTCCACTTAAGAA',\n",
       " 'CGGGCGCGAGGAAATC',\n",
       " 'AGGTATATTCCGCAAT',\n",
       " 'TATGTTGCGACTATCT',\n",
       " 'GGCCAGTGTTAAGTCC',\n",
       " 'GCCTCACATCGGCCAT',\n",
       " 'TTACGTATAGGTTGTC',\n",
       " 'CTCTGTAGCAACACGA',\n",
       " 'ATGAGCAGATATCTTG',\n",
       " 'TTCACCATTAGTACGC']"
      ]
     },
     "execution_count": 92,
     "metadata": {},
     "output_type": "execute_result"
    }
   ],
   "source": [
    "ultimate = [] # Store the final barcodes that are filtered based on consequtive bases\n",
    "for k, v in consequtive.items():\n",
    "    if (max(set(v)) <= 3) & (gc_content(k) >= 25.0) & (gc_content(k) <= 75.0): \n",
    "        ultimate.append(k)\n",
    "ultimate"
   ]
  },
  {
   "cell_type": "markdown",
   "metadata": {},
   "source": [
    "These barcodes have no more than 3 consequtive bases in a row, are at least 6 hamming distances away from any visium barcode, at least 7 hamming distances away from any random barcode, and within the same %GC range as the Visium spatial barcodes. Finally we write this to a textfile."
   ]
  },
  {
   "cell_type": "code",
   "execution_count": 93,
   "metadata": {},
   "outputs": [],
   "source": [
    "with open (\"Antibody_barcodes.txt\", \"w\") as f:\n",
    "    for barcode in ultimate:\n",
    "        f.write(barcode+\"\\n\")"
   ]
  }
 ],
 "metadata": {
  "kernelspec": {
   "display_name": "Python 3",
   "language": "python",
   "name": "python3"
  },
  "language_info": {
   "codemirror_mode": {
    "name": "ipython",
    "version": 3
   },
   "file_extension": ".py",
   "mimetype": "text/x-python",
   "name": "python",
   "nbconvert_exporter": "python",
   "pygments_lexer": "ipython3",
   "version": "3.8.5"
  }
 },
 "nbformat": 4,
 "nbformat_minor": 4
}
