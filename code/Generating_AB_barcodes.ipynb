{
 "cells": [
  {
   "cell_type": "markdown",
   "metadata": {},
   "source": [
    "# Creating_ab_barcodes"
   ]
  },
  {
   "cell_type": "markdown",
   "metadata": {},
   "source": [
    "This notebook contains code to generate AB barcodes for DNA-conjugated antibodies that can be used for simultaneous multiplexed protein profiling and Spatial Transcriptomics with Visium spatial gene expression solution from 10X genomics."
   ]
  },
  {
   "cell_type": "code",
   "execution_count": 1,
   "metadata": {},
   "outputs": [],
   "source": [
    "import random\n",
    "import numpy as np\n",
    "from itertools import groupby"
   ]
  },
  {
   "cell_type": "code",
   "execution_count": 2,
   "metadata": {},
   "outputs": [],
   "source": [
    "def visium_barcodes_(inputfile):\n",
    "    \"\"\"Function to get spatial barcodes from a visium file containing spatial barcodes and coordinates.\"\"\"\n",
    "    barcodes = []\n",
    "    with open(inputfile) as f:\n",
    "        for line in f:\n",
    "            words = line.split(\"\\t\")\n",
    "            barcodes.append(words[0])\n",
    "    return barcodes"
   ]
  },
  {
   "cell_type": "code",
   "execution_count": 3,
   "metadata": {},
   "outputs": [],
   "source": [
    "def gc_content(sequence):\n",
    "    \"\"\"Calculates the %GC in a sequence.\"\"\"\n",
    "    gc_count = sequence.count(\"G\") + sequence.count(\"C\")\n",
    "    gc_frac = float (gc_count) / len(sequence) *100\n",
    "    return gc_frac"
   ]
  },
  {
   "cell_type": "code",
   "execution_count": 4,
   "metadata": {},
   "outputs": [],
   "source": [
    "def hamming_distance (seq1, seq2):\n",
    "    \"\"\"Calculates the hamming distance between two sequences.\"\"\"\n",
    "    counter = 0\n",
    "    for nuc1, nuc2 in zip(seq1,seq2):\n",
    "        if nuc1 != nuc2:\n",
    "            counter += 1\n",
    "    return counter"
   ]
  },
  {
   "cell_type": "code",
   "execution_count": 5,
   "metadata": {},
   "outputs": [],
   "source": [
    "def random_barcodes(n, l):\n",
    "    \"\"\"Generates n random barcodes of l length.\"\"\"\n",
    "    random.seed(29)\n",
    "    random_barcodes = []\n",
    "    for j in range(0,n):\n",
    "        nucleotides = [\"A\", \"C\", \"G\", \"T\"]\n",
    "        random_barcodes.append(''.join(random.choice(nucleotides) for i in range(l)))\n",
    "    return random_barcodes"
   ]
  },
  {
   "cell_type": "code",
   "execution_count": 6,
   "metadata": {},
   "outputs": [],
   "source": [
    "visium_barcodes = visium_barcodes_(\"../data/visium-v1_coordinates.txt\")\n",
    "ab_barcodes = random_barcodes(100, 16) # create 100 AB barcodes of 16 length\n",
    "\n",
    "hamming_dist = {} # Store all hamming distances between each AB barcode and all visium spatial barcodes, and GC%\n",
    "\n",
    "for i in range(0, len(ab_barcodes)):\n",
    "    GC = gc_content(ab_barcodes[i]) # Calculate GC-content for each ab_barcode\n",
    "    values = []\n",
    "    for v_barcode in visium_barcodes:\n",
    "        val = hamming_distance(ab_barcodes[i], v_barcode) # AB barcode against each and every visium barcode\n",
    "        values.append(val)\n",
    "    hamming_dist[ab_barcodes[i]] = (values, GC) "
   ]
  },
  {
   "cell_type": "markdown",
   "metadata": {},
   "source": [
    "# Check GC-content range of Visium spatial barcodes¶"
   ]
  },
  {
   "cell_type": "code",
   "execution_count": 7,
   "metadata": {},
   "outputs": [
    {
     "name": "stdout",
     "output_type": "stream",
     "text": [
      "25.0\n",
      "75.0\n"
     ]
    }
   ],
   "source": [
    "gc_visium = []\n",
    "for barcode in visium_barcodes:\n",
    "    gc_visium.append(gc_content(barcode))\n",
    "print(min(gc_visium))\n",
    "print(max(gc_visium))"
   ]
  },
  {
   "cell_type": "markdown",
   "metadata": {},
   "source": [
    "# Check Hamming distance between AB barcodes and visum barcodes¶"
   ]
  },
  {
   "cell_type": "markdown",
   "metadata": {},
   "source": [
    "To understand how different the AB barcodes are to the Visium barcodes the minimum and maximum Hamming distance for each AB barcode can be retrieved."
   ]
  },
  {
   "cell_type": "code",
   "execution_count": 8,
   "metadata": {},
   "outputs": [],
   "source": [
    "distances = {}\n",
    "for key, val in hamming_dist.items():\n",
    "    hamming_val = []\n",
    "    for i in range(0, len(hamming_dist[key][0])):\n",
    "        value = val[0][i] # retrieve each hamming distance list comparing random barcode to visium barcode\n",
    "        hamming_val.append(value)\n",
    "        distances[key] = (min(hamming_val), max(hamming_val))"
   ]
  },
  {
   "cell_type": "code",
   "execution_count": 9,
   "metadata": {},
   "outputs": [
    {
     "data": {
      "text/plain": [
       "[('AGGAGTTAAATCGATG', (5, 16)),\n",
       " ('TCTCCTTCTGGCTTCG', (5, 16)),\n",
       " ('GTTAGCGCGATCTTTG', (5, 16))]"
      ]
     },
     "execution_count": 9,
     "metadata": {},
     "output_type": "execute_result"
    }
   ],
   "source": [
    "list(distances.items())[0:3]"
   ]
  },
  {
   "cell_type": "markdown",
   "metadata": {},
   "source": [
    "# Comparing the Hamming distance between AB barcodes"
   ]
  },
  {
   "cell_type": "markdown",
   "metadata": {},
   "source": [
    "To understand how different the 100 randomly generated AB barcodes are different to each other their Hamming distances can also be calculated and the minimum value retrieved."
   ]
  },
  {
   "cell_type": "code",
   "execution_count": 10,
   "metadata": {},
   "outputs": [],
   "source": [
    "hamming_random_bar = {}\n",
    "\n",
    "for i in range(0, len(ab_barcodes)):\n",
    "    values = []\n",
    "    for barcode in ab_barcodes:\n",
    "        val = hamming_distance(ab_barcodes[i], barcode)\n",
    "        values.append(val)\n",
    "    values.sort()\n",
    "    hamming_random_bar[ab_barcodes[i]] = values[1] # 1 because the first one is 0 (barcode compared to itself)"
   ]
  },
  {
   "cell_type": "code",
   "execution_count": 11,
   "metadata": {},
   "outputs": [
    {
     "data": {
      "text/plain": [
       "[('AGGAGTTAAATCGATG', 8), ('TCTCCTTCTGGCTTCG', 9), ('GTTAGCGCGATCTTTG', 8)]"
      ]
     },
     "execution_count": 11,
     "metadata": {},
     "output_type": "execute_result"
    }
   ],
   "source": [
    "list(hamming_random_bar.items())[0:3]"
   ]
  },
  {
   "cell_type": "markdown",
   "metadata": {},
   "source": [
    "# Choosing AB barcodes"
   ]
  },
  {
   "cell_type": "markdown",
   "metadata": {},
   "source": [
    "To decide on which AB barcodes to choose one can start with filtering out the AB barcodes that have closer resemblence to any of the Visium spatial barcodes. Here a minimum Hamming distance of 6 between the AB barcode and any Visium barcode was set as threshold.\n",
    "\n"
   ]
  },
  {
   "cell_type": "code",
   "execution_count": 12,
   "metadata": {},
   "outputs": [],
   "source": [
    "bools = []\n",
    "for k,v in distances.items():\n",
    "    bools.append(v[0]>=6)\n",
    "significant = [i for i, x in enumerate(bools) if x]"
   ]
  },
  {
   "cell_type": "markdown",
   "metadata": {},
   "source": [
    "Secondly, one can filter out the AB barcodes that have closer resemblence to any of the other AB barcodes. Here a minimum hamming distance of 7 between the AB barcodes and any other potential AB barcode was set as threshold."
   ]
  },
  {
   "cell_type": "code",
   "execution_count": 13,
   "metadata": {},
   "outputs": [],
   "source": [
    "l = []\n",
    "for k,v in hamming_random_bar.items():\n",
    "    l.append(v>=7)\n",
    "significant_barcodes = [i for i, x in enumerate(l) if x]"
   ]
  },
  {
   "cell_type": "markdown",
   "metadata": {},
   "source": [
    "Now the AB barcodes that are at least 6 hamming distances away from each visium spatial barcode and at least 7 hamming distances away from any other AB barcode can be retrieved by checking the intersection of the two lists generated."
   ]
  },
  {
   "cell_type": "code",
   "execution_count": 14,
   "metadata": {},
   "outputs": [],
   "source": [
    "overlap = set(significant).intersection(significant_barcodes)"
   ]
  },
  {
   "cell_type": "code",
   "execution_count": 15,
   "metadata": {},
   "outputs": [],
   "source": [
    "ab_barcodes = np.array(ab_barcodes)"
   ]
  },
  {
   "cell_type": "code",
   "execution_count": 16,
   "metadata": {},
   "outputs": [],
   "source": [
    "most_sig = ab_barcodes[list(overlap)] # retrieve the most signficant AB barcodes"
   ]
  },
  {
   "cell_type": "markdown",
   "metadata": {},
   "source": [
    "Lastly one can filter out the barcodes based on consecutive bases, here max 3 consecutive bases will be allowed."
   ]
  },
  {
   "cell_type": "code",
   "execution_count": 17,
   "metadata": {},
   "outputs": [],
   "source": [
    "consecutive = {} # Store the number of consecutive bases in each barcode\n",
    "for barcode in most_sig:\n",
    "    res = [len(list(j)) for _, j in groupby(barcode)]\n",
    "    consecutive[barcode] = res"
   ]
  },
  {
   "cell_type": "code",
   "execution_count": 18,
   "metadata": {},
   "outputs": [
    {
     "data": {
      "text/plain": [
       "[('CGCGAATTCTCGAAAG', [1, 1, 1, 1, 2, 2, 1, 1, 1, 1, 3, 1]),\n",
       " ('AGGGAGAGTGAGGAGC', [1, 3, 1, 1, 1, 1, 1, 1, 1, 2, 1, 1, 1]),\n",
       " ('CATCGCTCCTTTACCT', [1, 1, 1, 1, 1, 1, 1, 2, 3, 1, 2, 1])]"
      ]
     },
     "execution_count": 18,
     "metadata": {},
     "output_type": "execute_result"
    }
   ],
   "source": [
    "list(consecutive.items())[0:3]"
   ]
  },
  {
   "cell_type": "code",
   "execution_count": 19,
   "metadata": {},
   "outputs": [
    {
     "data": {
      "text/plain": [
       "['CGCGAATTCTCGAAAG',\n",
       " 'AGGGAGAGTGAGGAGC',\n",
       " 'CATCGCTCCTTTACCT',\n",
       " 'GCCGCGCCATCGGAGA',\n",
       " 'CTTCAGCACGAGTATA',\n",
       " 'GTCATGCTATGCGGAT',\n",
       " 'CGGGAGTGATAACGAC',\n",
       " 'GTCGCAGGGTCGTAAT',\n",
       " 'CCCTAGAACAAGCAAT',\n",
       " 'AACCTCCACTTAAGAA',\n",
       " 'CGGGCGCGAGGAAATC',\n",
       " 'AGGTATATTCCGCAAT',\n",
       " 'TATGTTGCGACTATCT',\n",
       " 'GGCCAGTGTTAAGTCC',\n",
       " 'GCCTCACATCGGCCAT',\n",
       " 'TTACGTATAGGTTGTC',\n",
       " 'CTCTGTAGCAACACGA',\n",
       " 'ATGAGCAGATATCTTG',\n",
       " 'TTCACCATTAGTACGC']"
      ]
     },
     "execution_count": 19,
     "metadata": {},
     "output_type": "execute_result"
    }
   ],
   "source": [
    "ultimate = [] # Store the final barcodes that are filtered based on consecutive bases\n",
    "for k, v in consecutive.items():\n",
    "    if (max(set(v)) <= 3) & (gc_content(k) >= 25.0) & (gc_content(k) <= 75.0): \n",
    "        ultimate.append(k)\n",
    "ultimate"
   ]
  },
  {
   "cell_type": "markdown",
   "metadata": {},
   "source": [
    "These barcodes have no more than 3 consecutive bases in a row, are at least 6 hamming distances away from any visium barcode, at least 7 hamming distances away from any random barcode, and within the same %GC range as the Visium spatial barcodes. "
   ]
  },
  {
   "cell_type": "code",
   "execution_count": 20,
   "metadata": {},
   "outputs": [],
   "source": [
    "with open (\"Antibody_barcodes.txt\", \"w\") as f:\n",
    "    for barcode in ultimate:\n",
    "        f.write(barcode+\"\\n\")"
   ]
  }
 ],
 "metadata": {
  "kernelspec": {
   "display_name": "Python 3",
   "language": "python",
   "name": "python3"
  },
  "language_info": {
   "codemirror_mode": {
    "name": "ipython",
    "version": 3
   },
   "file_extension": ".py",
   "mimetype": "text/x-python",
   "name": "python",
   "nbconvert_exporter": "python",
   "pygments_lexer": "ipython3",
   "version": "3.8.5"
  }
 },
 "nbformat": 4,
 "nbformat_minor": 4
}
